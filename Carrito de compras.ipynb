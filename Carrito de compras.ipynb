{
 "cells": [
  {
   "cell_type": "code",
   "execution_count": 8,
   "id": "8eff14e1",
   "metadata": {},
   "outputs": [
    {
     "name": "stdout",
     "output_type": "stream",
     "text": [
      "Carrito de compras\n",
      "\n",
      "Productos Disponibles: \n",
      "1.- Pan \n",
      "2.- Jamón \n",
      "3.- Crema \n",
      "4.- Mayonesa \n",
      "5.- Lechuga\n",
      "6.- Leche\n",
      "7.- Cereal\n",
      "8.- Tortillas\n",
      "Ingresa una lista con los productos en este formato: [[Cantidad,Producto]]\n",
      "Por ejemplo: [[1,1], [3,2]] significa 1 Pan y 3 Jamón\n",
      "[[1,1], [3,2]]\n",
      "\n",
      "\n",
      "Tu carrito es:\n",
      "1 Pan\n",
      "3 Jamón\n"
     ]
    }
   ],
   "source": [
    "print(\"Carrito de compras\\n\")\n",
    "print(\"\"\"Productos Disponibles: \n",
    "1.- Pan \n",
    "2.- Jamón \n",
    "3.- Crema \n",
    "4.- Mayonesa \n",
    "5.- Lechuga\n",
    "6.- Leche\n",
    "7.- Cereal\n",
    "8.- Tortillas\"\"\")\n",
    "\n",
    "print(\"Ingresa una lista con los productos en este formato: [[Cantidad,Producto]]\")\n",
    "print(\"Por ejemplo: [[1,1], [3,2]] significa 1 Pan y 3 Jamón\")\n",
    "\n",
    "\n",
    "my_shopping_cart = eval(input()) \n",
    "\n",
    "print(\"\\n\\nTu carrito es:\")\n",
    "\n",
    "product_names = {\n",
    "    1: \"Pan\",\n",
    "    2: \"Jamón\",\n",
    "    3: \"Crema\",\n",
    "    4: \"Mayonesa\",\n",
    "    5: \"Lechuga\",\n",
    "    6: \"Leche\",\n",
    "    7: \"Cereal\",\n",
    "    8: \"Tortillas\"\n",
    "}\n",
    "\n",
    "if isinstance(my_shopping_cart, list):\n",
    "    for element in my_shopping_cart:\n",
    "        if isinstance(element, list) and len(element) == 2:\n",
    "            cantidad = element[0]\n",
    "            producto_num = element[1]\n",
    "            if producto_num in product_names:\n",
    "                producto_nombre = product_names[producto_num]\n",
    "                print(\"{} {}\".format(cantidad, producto_nombre))\n",
    "            else:\n",
    "                print(\"Producto no válido: {}\".format(producto_num))\n",
    "        else:\n",
    "            print(\"Formato incorrecto, debes ingresar una lista de listas con dos elementos cada una\")\n",
    "else:\n",
    "    print(\"Formato incorrecto, debes ingresar una lista de listas\")"
   ]
  },
  {
   "cell_type": "code",
   "execution_count": null,
   "id": "320da783",
   "metadata": {},
   "outputs": [],
   "source": []
  },
  {
   "cell_type": "code",
   "execution_count": null,
   "id": "7e305b62",
   "metadata": {},
   "outputs": [],
   "source": []
  }
 ],
 "metadata": {
  "celltoolbar": "Raw Cell Format",
  "kernelspec": {
   "display_name": "Python 3 (ipykernel)",
   "language": "python",
   "name": "python3"
  },
  "language_info": {
   "codemirror_mode": {
    "name": "ipython",
    "version": 3
   },
   "file_extension": ".py",
   "mimetype": "text/x-python",
   "name": "python",
   "nbconvert_exporter": "python",
   "pygments_lexer": "ipython3",
   "version": "3.11.7"
  }
 },
 "nbformat": 4,
 "nbformat_minor": 5
}
